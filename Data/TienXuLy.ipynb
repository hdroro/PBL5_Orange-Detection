{
 "cells": [
  {
   "cell_type": "markdown",
   "metadata": {},
   "source": [
    "# 0. Import"
   ]
  },
  {
   "cell_type": "code",
   "execution_count": 1,
   "metadata": {},
   "outputs": [],
   "source": [
    "import cv2\n",
    "import numpy as np\n",
    "import os\n",
    "from shutil import copyfile\n",
    "import random\n",
    "import uuid"
   ]
  },
  {
   "cell_type": "markdown",
   "metadata": {},
   "source": [
    "# 1. Resize data"
   ]
  },
  {
   "cell_type": "code",
   "execution_count": 2,
   "metadata": {},
   "outputs": [],
   "source": [
    "dataset_path = \"dataset\"\n",
    "\n",
    "resized_path = \"resized_dataset\"\n",
    "os.makedirs(resized_path, exist_ok=True)"
   ]
  },
  {
   "cell_type": "code",
   "execution_count": 3,
   "metadata": {},
   "outputs": [],
   "source": [
    "def resizeImage(img, size=(224,224)):\n",
    "    height, width = img.shape[:2]\n",
    "    if height == width:\n",
    "        return cv2.resize(img, size, interpolation=cv2.INTER_AREA) if height > size[0] else cv2.resize(img, size, interpolation=cv2.INTER_CUBIC)\n",
    "    \n",
    "    max_dim = max(height, width)\n",
    "    top = (max_dim - height) // 2\n",
    "    bottom = max_dim - height - top\n",
    "    left = (max_dim - width) // 2\n",
    "    right = max_dim - width - left\n",
    "\n",
    "    padded_img = cv2.copyMakeBorder(img, top, bottom, left, right, cv2.BORDER_CONSTANT, value=(0, 0, 0))\n",
    "    return cv2.resize(padded_img, size, interpolation=cv2.INTER_AREA) if max_dim > size[0] else cv2.resize(padded_img, size, interpolation=cv2.INTER_CUBIC)"
   ]
  },
  {
   "cell_type": "code",
   "execution_count": 4,
   "metadata": {},
   "outputs": [],
   "source": [
    "def process_img(folder, destination):\n",
    "    print('folder',folder)\n",
    "    print('destination',destination)\n",
    "    os.makedirs(destination, exist_ok=True)\n",
    "\n",
    "    for image in os.listdir(folder):\n",
    "        # print('image', image)\n",
    "        filename = image\n",
    "        try:\n",
    "            img = cv2.imread(os.path.join(folder, image))\n",
    "            resized = resizeImage(img, (224, 224))\n",
    "            new_filename = \"resized_\" + filename\n",
    "            cv2.imwrite(os.path.join(destination, new_filename), resized)\n",
    "        except Exception as e:\n",
    "            print(e)\n",
    "            print(\"Error in resizing image: \", filename)\n",
    "            continue   "
   ]
  },
  {
   "cell_type": "code",
   "execution_count": 5,
   "metadata": {},
   "outputs": [
    {
     "name": "stdout",
     "output_type": "stream",
     "text": [
      "folder dataset\\freshoranges\n",
      "destination resized_dataset\\freshoranges\n",
      "folder dataset\\rottenoranges\n",
      "destination resized_dataset\\rottenoranges\n",
      "Images resized successfully!\n"
     ]
    }
   ],
   "source": [
    "process_img(os.path.join(dataset_path, 'freshoranges'), destination=os.path.join(resized_path, 'freshoranges'))\n",
    "process_img(os.path.join(dataset_path, 'rottenoranges'),  destination=os.path.join(resized_path, 'rottenoranges'))\n",
    "\n",
    "print('Images resized successfully!')"
   ]
  },
  {
   "cell_type": "markdown",
   "metadata": {},
   "source": [
    "# 2. Split dataset to Train/Test/Validation"
   ]
  },
  {
   "cell_type": "code",
   "execution_count": 6,
   "metadata": {},
   "outputs": [],
   "source": [
    "try:\n",
    "    source_folder = 'fruit_dataset'\n",
    "\n",
    "    train_dir = os.path.join(source_folder, 'train')\n",
    "    test_dir = os.path.join(source_folder, 'test')\n",
    "    validation_dir = os.path.join(source_folder, 'validation')\n",
    "\n",
    "    train_rotten_dir = os.path.join(train_dir, 'Rotten Oranges')\n",
    "    train_fresh_dir = os.path.join(train_dir, 'Fresh Oranges')\n",
    "\n",
    "    test_rotten_dir = os.path.join(test_dir, 'Rotten Oranges')\n",
    "    test_fresh_dir = os.path.join(test_dir, 'Fresh Oranges')\n",
    "\n",
    "    validation_rotten_dir = os.path.join(validation_dir, 'Rotten Oranges')\n",
    "    validation_fresh_dir = os.path.join(validation_dir, 'Fresh Oranges')\n",
    "\n",
    "    os.makedirs(source_folder, exist_ok=True)\n",
    "    os.makedirs(train_dir, exist_ok=True)\n",
    "    os.makedirs(test_dir, exist_ok=True)\n",
    "    os.makedirs(validation_dir, exist_ok=True)\n",
    "\n",
    "    os.makedirs(train_rotten_dir, exist_ok=True)\n",
    "    os.makedirs(train_fresh_dir, exist_ok=True)\n",
    "\n",
    "    os.makedirs(test_rotten_dir, exist_ok=True)\n",
    "    os.makedirs(test_fresh_dir, exist_ok=True)\n",
    "\n",
    "    os.makedirs(validation_rotten_dir, exist_ok=True)\n",
    "    os.makedirs(validation_fresh_dir, exist_ok=True)\n",
    "\n",
    "except OSError:\n",
    "    pass"
   ]
  },
  {
   "cell_type": "code",
   "execution_count": 7,
   "metadata": {},
   "outputs": [],
   "source": [
    "#SPLIT\n",
    "source_datasets = 'resized_dataset'\n",
    "\n",
    "foranges_dir = os.path.join(source_datasets, 'freshoranges')\n",
    "\n",
    "roranges_dir = os.path.join(source_datasets, 'rottenoranges')"
   ]
  },
  {
   "cell_type": "code",
   "execution_count": 8,
   "metadata": {},
   "outputs": [],
   "source": [
    "def split_data(SOURCE='', TRAINING='', TESTING='', VALIDATION='',  SPLIT_SIZE=(0.6, 0.2, 0.2)):\n",
    "    data = os.listdir(SOURCE)\n",
    "    random.shuffle(data)\n",
    "\n",
    "    train_size = int(len(data) * SPLIT_SIZE[0])\n",
    "    test_size = int(len(data) * SPLIT_SIZE[1])\n",
    "    validate_size = len(data) - train_size - test_size\n",
    "\n",
    "    if(TRAINING != ''):\n",
    "        for i, filename in enumerate(data):\n",
    "            filepath = os.path.join(SOURCE, filename)\n",
    "            if os.path.getsize(filepath) > 0:\n",
    "                if i < train_size:\n",
    "                    copyfile(filepath, os.path.join(TRAINING, filename))\n",
    "                elif i < train_size + test_size:\n",
    "                    copyfile(filepath, os.path.join(TESTING, filename))\n",
    "                else:\n",
    "                    copyfile(filepath, os.path.join(VALIDATION, filename))\n",
    "    else:\n",
    "        for i, filename in enumerate(data):\n",
    "            filepath = os.path.join(SOURCE, filename)\n",
    "            if os.path.getsize(filepath) > 0:\n",
    "                if i < test_size:\n",
    "                    copyfile(filepath, os.path.join(TESTING, filename))\n",
    "                else:\n",
    "                    copyfile(filepath, os.path.join(VALIDATION, filename))"
   ]
  },
  {
   "cell_type": "code",
   "execution_count": 9,
   "metadata": {},
   "outputs": [],
   "source": [
    "split_data(roranges_dir, train_rotten_dir, test_rotten_dir, validation_rotten_dir, (0.6, 0.2, 0.2))\n",
    "split_data(foranges_dir, train_fresh_dir, test_fresh_dir, validation_fresh_dir, (0.6, 0.2, 0.2))"
   ]
  },
  {
   "cell_type": "markdown",
   "metadata": {},
   "source": [
    "## Copy directory"
   ]
  },
  {
   "cell_type": "code",
   "execution_count": 10,
   "metadata": {},
   "outputs": [],
   "source": [
    "source_folder = 'fruit_dataset'\n",
    "destination_folder = 'augmented_dataset'"
   ]
  },
  {
   "cell_type": "code",
   "execution_count": 11,
   "metadata": {},
   "outputs": [],
   "source": [
    "def create_directory_structure(source_folder, destination_folder, depth):\n",
    "    # Kiểm tra nếu depth là 0, không cần tạo thư mục nữa\n",
    "    if depth == 0:\n",
    "        return\n",
    "\n",
    "    # Duyệt qua các thư mục trong thư mục nguồn\n",
    "    for folder_name in os.listdir(source_folder):\n",
    "        source_subfolder = os.path.join(source_folder, folder_name)\n",
    "        # Nếu là thư mục\n",
    "        if os.path.isdir(source_subfolder):\n",
    "            destination_subfolder = os.path.join(destination_folder, folder_name)\n",
    "            # Tạo thư mục đích\n",
    "            os.makedirs(destination_subfolder, exist_ok=True)\n",
    "            # Sao chép dữ liệu từ thư mục nguồn sang thư mục đích\n",
    "            for file_name in os.listdir(source_subfolder):\n",
    "                source_file = os.path.join(source_subfolder, file_name)\n",
    "                if os.path.isfile(source_file):\n",
    "                    destination_file = os.path.join(destination_subfolder, file_name)\n",
    "                    copyfile(source_file, destination_file)\n",
    "            # Tiếp tục đệ quy để tạo cấu trúc thư mục bên trong\n",
    "            create_directory_structure(source_subfolder, destination_subfolder, depth - 1)"
   ]
  },
  {
   "cell_type": "code",
   "execution_count": 12,
   "metadata": {},
   "outputs": [],
   "source": [
    "# Tạo cây thư mục và sao chép dữ liệu\n",
    "create_directory_structure(source_folder, destination_folder, depth=3)"
   ]
  },
  {
   "cell_type": "markdown",
   "metadata": {},
   "source": [
    "# 3. Data Augment"
   ]
  },
  {
   "cell_type": "code",
   "execution_count": 13,
   "metadata": {},
   "outputs": [],
   "source": [
    "destionation_dir = 'augmented_dataset'"
   ]
  },
  {
   "cell_type": "code",
   "execution_count": 15,
   "metadata": {},
   "outputs": [],
   "source": [
    "def random_rotation():\n",
    "    angles = [15, 30, 45, 60, 75]  \n",
    "    return random.choice(angles) \n",
    "\n",
    "def shift(image, width_shift_range=0.2, height_shift_range=0.2):\n",
    "    tx = np.random.uniform(-width_shift_range, width_shift_range) * image.shape[1]\n",
    "    ty = np.random.uniform(-height_shift_range, height_shift_range) * image.shape[0]\n",
    "    translation_matrix = np.float32([[1, 0, tx], [0, 1, ty]])\n",
    "    shifted_image = cv2.warpAffine(image, translation_matrix, (image.shape[1], image.shape[0]))\n",
    "    return shifted_image\n",
    "\n",
    "def rotation(image):\n",
    "    rotation_angle = random_rotation()\n",
    "    rotation_matrix = cv2.getRotationMatrix2D((image.shape[1] / 2, image.shape[0] / 2), rotation_angle, 1)\n",
    "    rotated_image = cv2.warpAffine(image, rotation_matrix, (image.shape[1], image.shape[0]))\n",
    "    return rotated_image\n",
    "\n",
    "def flip(image):\n",
    "    flip_code = random.choice([-1, 0, 1])\n",
    "    flipped_image = cv2.flip(image, flip_code)\n",
    "    return flipped_image\n",
    "\n",
    "def salt_noise(image):\n",
    "    if np.random.rand() < 0.5:\n",
    "        salt_noise = np.random.rand(*image.shape) > 0.95\n",
    "        image[salt_noise] = 1.0 \n",
    "    return image"
   ]
  },
  {
   "cell_type": "code",
   "execution_count": 16,
   "metadata": {},
   "outputs": [],
   "source": [
    "def augment_data(folder):\n",
    "    for filename in os.listdir(folder):\n",
    "        img = cv2.imread(os.path.join(folder, filename))\n",
    "        for method_name, method_func in [(\"shift\", shift), (\"rotation\", rotation), (\"flip\", flip), (\"salt_noise\", salt_noise)]:\n",
    "            augmented_img = method_func(img)\n",
    "            new_filename = f\"{method_name}_{'rottenOrange'}_{str(uuid.uuid4())}.jpg\"\n",
    "            save_path = os.path.join(folder, new_filename)\n",
    "            cv2.imwrite(save_path, augmented_img)"
   ]
  },
  {
   "cell_type": "code",
   "execution_count": 17,
   "metadata": {},
   "outputs": [],
   "source": [
    "augment_data(os.path.join(destionation_dir, 'train', 'Rotten Oranges') )"
   ]
  },
  {
   "cell_type": "markdown",
   "metadata": {},
   "source": [
    "### Copy available train set of fresh oranges to augmented_dataset/train/Fresh Oranges"
   ]
  },
  {
   "cell_type": "code",
   "execution_count": 18,
   "metadata": {},
   "outputs": [],
   "source": [
    "source_folder = os.path.join(dataset_path, 'freshoranges', 'train')\n",
    "destination_folder = os.path.join('augmented_dataset', 'train', 'Fresh Oranges')"
   ]
  },
  {
   "cell_type": "code",
   "execution_count": 19,
   "metadata": {},
   "outputs": [],
   "source": [
    "\n",
    "def copyFolder(source_folder, destination_folder):\n",
    "    # Tạo thư mục đích nếu chưa tồn tại\n",
    "    if not os.path.exists(destination_folder):\n",
    "        os.makedirs(destination_folder)\n",
    "\n",
    "    # Sao chép tất cả các tệp từ thư mục nguồn sang thư mục đích\n",
    "    for filename in os.listdir(source_folder):\n",
    "        source_file = os.path.join(source_folder, filename)\n",
    "        destination_file = os.path.join(destination_folder, filename)\n",
    "        copyfile(source_file, destination_file)"
   ]
  },
  {
   "cell_type": "code",
   "execution_count": 20,
   "metadata": {},
   "outputs": [],
   "source": [
    "copyFolder(source_folder, destination_folder)"
   ]
  },
  {
   "cell_type": "markdown",
   "metadata": {},
   "source": [
    "##### Convert some images have endswith by '.jpg' to '.png'"
   ]
  },
  {
   "cell_type": "code",
   "execution_count": 2,
   "metadata": {},
   "outputs": [
    {
     "name": "stdout",
     "output_type": "stream",
     "text": [
      "Converted rottenFresh (1).jpg to PNG\n",
      "Deleted old file: rotten\\rottenFresh (1).jpg\n",
      "Converted rottenFresh (10).jpg to PNG\n",
      "Deleted old file: rotten\\rottenFresh (10).jpg\n",
      "Converted rottenFresh (11).jpg to PNG\n",
      "Deleted old file: rotten\\rottenFresh (11).jpg\n",
      "Converted rottenFresh (12).jpg to PNG\n",
      "Deleted old file: rotten\\rottenFresh (12).jpg\n",
      "Converted rottenFresh (13).jpg to PNG\n",
      "Deleted old file: rotten\\rottenFresh (13).jpg\n",
      "Converted rottenFresh (14).jpg to PNG\n",
      "Deleted old file: rotten\\rottenFresh (14).jpg\n",
      "Converted rottenFresh (15).jpg to PNG\n",
      "Deleted old file: rotten\\rottenFresh (15).jpg\n",
      "Converted rottenFresh (16).jpg to PNG\n",
      "Deleted old file: rotten\\rottenFresh (16).jpg\n",
      "Converted rottenFresh (17).jpg to PNG\n",
      "Deleted old file: rotten\\rottenFresh (17).jpg\n",
      "Converted rottenFresh (18).jpg to PNG\n",
      "Deleted old file: rotten\\rottenFresh (18).jpg\n",
      "Converted rottenFresh (2).jpg to PNG\n",
      "Deleted old file: rotten\\rottenFresh (2).jpg\n",
      "Converted rottenFresh (3).jpg to PNG\n",
      "Deleted old file: rotten\\rottenFresh (3).jpg\n",
      "Converted rottenFresh (4).jpg to PNG\n",
      "Deleted old file: rotten\\rottenFresh (4).jpg\n",
      "Converted rottenFresh (5).jpg to PNG\n",
      "Deleted old file: rotten\\rottenFresh (5).jpg\n",
      "Converted rottenFresh (6).jpg to PNG\n",
      "Deleted old file: rotten\\rottenFresh (6).jpg\n",
      "Converted rottenFresh (7).jpg to PNG\n",
      "Deleted old file: rotten\\rottenFresh (7).jpg\n",
      "Converted rottenFresh (8).jpg to PNG\n",
      "Deleted old file: rotten\\rottenFresh (8).jpg\n",
      "Converted rottenFresh (9).jpg to PNG\n",
      "Deleted old file: rotten\\rottenFresh (9).jpg\n"
     ]
    }
   ],
   "source": [
    "from PIL import Image\n",
    "import os\n",
    "\n",
    "\n",
    "def convert_jpg_to_png(folder_path):\n",
    "    # Lặp qua tất cả các tệp trong thư mục\n",
    "    for filename in os.listdir(folder_path):\n",
    "        # Kiểm tra xem tệp có phải là ảnh jpg không\n",
    "        if filename.endswith(\".jpg\") | filename.endswith(\".JPG\") | filename.endswith(\".PNG\"):\n",
    "            # Đường dẫn đầy đủ của tệp ảnh đầu vào\n",
    "            input_path = os.path.join(folder_path, filename)\n",
    "            # Tạo tên tệp đầu ra với cùng tên nhưng đuôi mở rộng là .png\n",
    "            output_path = os.path.join(folder_path, os.path.splitext(filename)[0] + \"_.png\")\n",
    "\n",
    "            # Mở ảnh đầu vào và chuyển đổi sang định dạng PNG\n",
    "            try:\n",
    "                with Image.open(input_path) as img:\n",
    "                    img.save(output_path, \"PNG\")\n",
    "                print(f\"Converted {filename} to PNG\")\n",
    "\n",
    "                # Xóa tệp ảnh jpg cũ\n",
    "                os.remove(input_path)\n",
    "                print(f\"Deleted old file: {input_path}\")\n",
    "            except Exception as e:\n",
    "                print(f\"Failed to convert {filename}: {e}\")\n",
    "\n",
    "# Thư mục chứa ảnh JPG cần chuyển đổi\n",
    "path__ = 'rotten'\n",
    "# Gọi hàm chuyển đổi\n",
    "convert_jpg_to_png(path__)\n"
   ]
  },
  {
   "cell_type": "markdown",
   "metadata": {},
   "source": [
    "# DataGenerator"
   ]
  },
  {
   "cell_type": "code",
   "execution_count": null,
   "metadata": {},
   "outputs": [],
   "source": []
  }
 ],
 "metadata": {
  "kernelspec": {
   "display_name": "Python 3",
   "language": "python",
   "name": "python3"
  },
  "language_info": {
   "codemirror_mode": {
    "name": "ipython",
    "version": 3
   },
   "file_extension": ".py",
   "mimetype": "text/x-python",
   "name": "python",
   "nbconvert_exporter": "python",
   "pygments_lexer": "ipython3",
   "version": "3.12.2"
  }
 },
 "nbformat": 4,
 "nbformat_minor": 2
}
