{
  "cells": [
    {
      "cell_type": "markdown",
      "metadata": {
        "id": "IQSxbV0WKPi8"
      },
      "source": [
        "## Import"
      ]
    },
    {
      "cell_type": "code",
      "execution_count": 1,
      "metadata": {
        "id": "MOFQuqkZKSIF"
      },
      "outputs": [
        {
          "name": "stdout",
          "output_type": "stream",
          "text": [
            "WARNING:tensorflow:From c:\\Users\\DELL\\AppData\\Local\\Programs\\Python\\Python311\\Lib\\site-packages\\keras\\src\\losses.py:2976: The name tf.losses.sparse_softmax_cross_entropy is deprecated. Please use tf.compat.v1.losses.sparse_softmax_cross_entropy instead.\n",
            "\n"
          ]
        }
      ],
      "source": [
        "from tensorflow.keras.applications import VGG19\n",
        "from tensorflow.keras import layers\n",
        "from tensorflow.keras import Model\n",
        "\n",
        "from tensorflow.keras.preprocessing.image import ImageDataGenerator\n",
        "import tensorflow as tf\n",
        "import os\n",
        "import math\n",
        "\n",
        "import matplotlib.pyplot as plt"
      ]
    },
    {
      "cell_type": "markdown",
      "metadata": {},
      "source": [
        "## Mount drive"
      ]
    },
    {
      "cell_type": "code",
      "execution_count": 2,
      "metadata": {
        "colab": {
          "base_uri": "https://localhost:8080/"
        },
        "id": "xi1U7vLTbbkN",
        "outputId": "7c06f6e3-40f8-4a23-d3b7-1ea0f6106362"
      },
      "outputs": [
        {
          "name": "stdout",
          "output_type": "stream",
          "text": [
            "Mounted at /content/drive\n"
          ]
        }
      ],
      "source": [
        "from google.colab import drive\n",
        "drive.mount('/content/drive')"
      ]
    },
    {
      "cell_type": "markdown",
      "metadata": {},
      "source": [
        "## Init some dir"
      ]
    },
    {
      "cell_type": "code",
      "execution_count": 3,
      "metadata": {
        "id": "N2C-3Z6PKivU"
      },
      "outputs": [],
      "source": [
        "destination_dir = '/content/drive/MyDrive/fruit_dataset'\n",
        "train_dir = os.path.join(destination_dir, 'train')\n",
        "validation_dir = os.path.join(destination_dir, 'validation')\n",
        "test_dir = os.path.join(destination_dir, 'test')"
      ]
    },
    {
      "cell_type": "markdown",
      "metadata": {},
      "source": [
        "## Data augmented for train dataset"
      ]
    },
    {
      "cell_type": "code",
      "execution_count": 4,
      "metadata": {
        "id": "mwoFbfpBKJWZ"
      },
      "outputs": [],
      "source": [
        "train_datagen = ImageDataGenerator(\n",
        "    rescale=1./255,\n",
        "    width_shift_range=0.2,\n",
        "    height_shift_range=0.2,\n",
        "    shear_range=0.2,\n",
        "    zoom_range=[0.5, 1.0],\n",
        "    rotation_range=90, # random in range [-90, 90]\n",
        "    horizontal_flip=True,\n",
        "    vertical_flip=True,\n",
        "    fill_mode='reflect'\n",
        ")\n",
        "\n",
        "validation_datagen = ImageDataGenerator(rescale=1./255)\n"
      ]
    },
    {
      "cell_type": "markdown",
      "metadata": {
        "id": "u4ij87usKez8"
      },
      "source": [
        "## Image Data Generator"
      ]
    },
    {
      "cell_type": "code",
      "execution_count": 5,
      "metadata": {
        "id": "xE8w7lEeaFZy"
      },
      "outputs": [],
      "source": [
        "epochs = 30\n",
        "batch_size = 32"
      ]
    },
    {
      "cell_type": "code",
      "execution_count": 6,
      "metadata": {
        "colab": {
          "base_uri": "https://localhost:8080/"
        },
        "id": "hqQhGVMNKgav",
        "outputId": "d791ea7c-1d26-4108-eee7-20bbfddfbbc0"
      },
      "outputs": [
        {
          "name": "stdout",
          "output_type": "stream",
          "text": [
            "Found 1048 images belonging to 2 classes.\n",
            "Found 351 images belonging to 2 classes.\n"
          ]
        }
      ],
      "source": [
        "train_generator = train_datagen.flow_from_directory(train_dir,\n",
        "                                                    batch_size=batch_size,\n",
        "                                                    color_mode=\"rgb\",\n",
        "                                                    target_size=(224,224),\n",
        "                                                    class_mode='binary')\n",
        "\n",
        "validation_generator = validation_datagen.flow_from_directory(validation_dir,\n",
        "                                                         batch_size=batch_size,\n",
        "                                                         color_mode=\"rgb\",\n",
        "                                                         target_size=(224,224),\n",
        "                                                         class_mode='binary')"
      ]
    },
    {
      "cell_type": "markdown",
      "metadata": {
        "id": "iN2QXJRAW__g"
      },
      "source": [
        "# Transfer Learning"
      ]
    },
    {
      "cell_type": "code",
      "execution_count": 7,
      "metadata": {
        "colab": {
          "base_uri": "https://localhost:8080/"
        },
        "id": "LwVZVlz9XDgQ",
        "outputId": "7bf77692-875b-45d9-fa29-4d6af0fac5e3"
      },
      "outputs": [
        {
          "name": "stdout",
          "output_type": "stream",
          "text": [
            "Downloading data from https://storage.googleapis.com/tensorflow/keras-applications/vgg19/vgg19_weights_tf_dim_ordering_tf_kernels_notop.h5\n",
            "80134624/80134624 [==============================] - 1s 0us/step\n",
            "Model: \"model\"\n",
            "_________________________________________________________________\n",
            " Layer (type)                Output Shape              Param #   \n",
            "=================================================================\n",
            " input_1 (InputLayer)        [(None, 224, 224, 3)]     0         \n",
            "                                                                 \n",
            " block1_conv1 (Conv2D)       (None, 224, 224, 64)      1792      \n",
            "                                                                 \n",
            " block1_conv2 (Conv2D)       (None, 224, 224, 64)      36928     \n",
            "                                                                 \n",
            " block1_pool (MaxPooling2D)  (None, 112, 112, 64)      0         \n",
            "                                                                 \n",
            " block2_conv1 (Conv2D)       (None, 112, 112, 128)     73856     \n",
            "                                                                 \n",
            " block2_conv2 (Conv2D)       (None, 112, 112, 128)     147584    \n",
            "                                                                 \n",
            " block2_pool (MaxPooling2D)  (None, 56, 56, 128)       0         \n",
            "                                                                 \n",
            " block3_conv1 (Conv2D)       (None, 56, 56, 256)       295168    \n",
            "                                                                 \n",
            " block3_conv2 (Conv2D)       (None, 56, 56, 256)       590080    \n",
            "                                                                 \n",
            " block3_conv3 (Conv2D)       (None, 56, 56, 256)       590080    \n",
            "                                                                 \n",
            " block3_conv4 (Conv2D)       (None, 56, 56, 256)       590080    \n",
            "                                                                 \n",
            " block3_pool (MaxPooling2D)  (None, 28, 28, 256)       0         \n",
            "                                                                 \n",
            " block4_conv1 (Conv2D)       (None, 28, 28, 512)       1180160   \n",
            "                                                                 \n",
            " block4_conv2 (Conv2D)       (None, 28, 28, 512)       2359808   \n",
            "                                                                 \n",
            " block4_conv3 (Conv2D)       (None, 28, 28, 512)       2359808   \n",
            "                                                                 \n",
            " block4_conv4 (Conv2D)       (None, 28, 28, 512)       2359808   \n",
            "                                                                 \n",
            " block4_pool (MaxPooling2D)  (None, 14, 14, 512)       0         \n",
            "                                                                 \n",
            " block5_conv1 (Conv2D)       (None, 14, 14, 512)       2359808   \n",
            "                                                                 \n",
            " block5_conv2 (Conv2D)       (None, 14, 14, 512)       2359808   \n",
            "                                                                 \n",
            " block5_conv3 (Conv2D)       (None, 14, 14, 512)       2359808   \n",
            "                                                                 \n",
            " block5_conv4 (Conv2D)       (None, 14, 14, 512)       2359808   \n",
            "                                                                 \n",
            " block5_pool (MaxPooling2D)  (None, 7, 7, 512)         0         \n",
            "                                                                 \n",
            " flatten (Flatten)           (None, 25088)             0         \n",
            "                                                                 \n",
            " dense (Dense)               (None, 128)               3211392   \n",
            "                                                                 \n",
            " dropout (Dropout)           (None, 128)               0         \n",
            "                                                                 \n",
            " dense_1 (Dense)             (None, 1)                 129       \n",
            "                                                                 \n",
            "=================================================================\n",
            "Total params: 23235905 (88.64 MB)\n",
            "Trainable params: 3211521 (12.25 MB)\n",
            "Non-trainable params: 20024384 (76.39 MB)\n",
            "_________________________________________________________________\n"
          ]
        }
      ],
      "source": [
        "pre_trained_model = VGG19(weights='imagenet', input_shape=(224, 224, 3), include_top=False)\n",
        "\n",
        "for layer in pre_trained_model.layers:\n",
        "    layer.trainable = False\n",
        "\n",
        "x = layers.Flatten()(pre_trained_model.output)\n",
        "x = layers.Dense(128, activation='relu', kernel_regularizer=tf.keras.regularizers.L2(0.01))(x)\n",
        "x = layers.Dropout(0.3)(x)\n",
        "x = layers.Dense(1, activation='sigmoid')(x)\n",
        "\n",
        "model = Model(pre_trained_model.input, x)\n",
        "\n",
        "model.compile(optimizer='adam', loss='binary_crossentropy', metrics=['accuracy'])\n",
        "\n",
        "model.summary()"
      ]
    },
    {
      "cell_type": "code",
      "execution_count": 8,
      "metadata": {
        "colab": {
          "base_uri": "https://localhost:8080/"
        },
        "id": "HRn9D1hWYUrH",
        "outputId": "bf10abae-79cd-4795-ebca-4d7fb45cc28f"
      },
      "outputs": [
        {
          "name": "stdout",
          "output_type": "stream",
          "text": [
            "1048\n",
            "351\n"
          ]
        }
      ],
      "source": [
        "train_len = 0\n",
        "for foldername in os.listdir(os.path.join(destination_dir, 'train')):\n",
        "    train_len = train_len + len(os.listdir(os.path.join(destination_dir,'train',foldername)))\n",
        "\n",
        "val_len = 0\n",
        "for foldername in os.listdir(os.path.join(destination_dir, 'validation')):\n",
        "    val_len = val_len + len(os.listdir(os.path.join(destination_dir, 'validation',foldername)))\n",
        "\n",
        "print(train_len)\n",
        "print(val_len)"
      ]
    },
    {
      "cell_type": "markdown",
      "metadata": {
        "id": "I1RMXwcoLzn1"
      },
      "source": [
        "## Custom Callbacks function"
      ]
    },
    {
      "cell_type": "code",
      "execution_count": 9,
      "metadata": {
        "id": "rcmZm3VvL2qb"
      },
      "outputs": [],
      "source": [
        "checkpoint_filepath = os.path.join(\n",
        "    '/content/drive/MyDrive/dfr/checkpoints',\n",
        "    \"{epoch:03d}-{val_loss:.4f}.h5\",\n",
        ")\n",
        "\n",
        "checkpoint = tf.keras.callbacks.ModelCheckpoint(\n",
        "    filepath=checkpoint_filepath,\n",
        "    save_weights_only=False,\n",
        "    monitor='val_loss',\n",
        "    mode='min',\n",
        "    save_best_only=True,\n",
        ")\n",
        "\n",
        "early_stopping = tf.keras.callbacks.EarlyStopping(\n",
        "    monitor='val_loss',\n",
        "    mode='min',\n",
        "    verbose=1,\n",
        "    patience=4,\n",
        "    restore_best_weights=True\n",
        ")\n",
        "\n",
        "# lr_scheduler = tf.keras.callbacks.ReduceLROnPlateau(factor=0.2, patience=3, min_lr=1e-6)\n",
        "callbacks = [checkpoint, early_stopping]"
      ]
    },
    {
      "cell_type": "markdown",
      "metadata": {},
      "source": [
        "## Train"
      ]
    },
    {
      "cell_type": "code",
      "execution_count": 10,
      "metadata": {
        "colab": {
          "base_uri": "https://localhost:8080/"
        },
        "id": "ZFsbVlRKeInH",
        "outputId": "1621dedd-aaf7-473a-bace-8085179298c5"
      },
      "outputs": [
        {
          "name": "stdout",
          "output_type": "stream",
          "text": [
            "Epoch 1/30\n",
            "32/32 [==============================] - ETA: 0s - loss: 2.3728 - accuracy: 0.6781"
          ]
        },
        {
          "name": "stderr",
          "output_type": "stream",
          "text": [
            "/usr/local/lib/python3.10/dist-packages/keras/src/engine/training.py:3103: UserWarning: You are saving your model as an HDF5 file via `model.save()`. This file format is considered legacy. We recommend using instead the native Keras format, e.g. `model.save('my_model.keras')`.\n",
            "  saving_api.save_model(\n"
          ]
        },
        {
          "name": "stdout",
          "output_type": "stream",
          "text": [
            "\b\b\b\b\b\b\b\b\b\b\b\b\b\b\b\b\b\b\b\b\b\b\b\b\b\b\b\b\b\b\b\b\b\b\b\b\b\b\b\b\b\b\b\b\b\b\b\b\b\b\b\b\b\b\b\b\b\b\b\b\b\b\b\b\b\b\b\b\b\b\b\b\b\b\b\b\b\b\b\b\b\b\r32/32 [==============================] - 278s 8s/step - loss: 2.3728 - accuracy: 0.6781 - val_loss: 1.2444 - val_accuracy: 0.7375\n",
            "Epoch 2/30\n",
            "32/32 [==============================] - 21s 643ms/step - loss: 0.8995 - accuracy: 0.8514 - val_loss: 0.7054 - val_accuracy: 0.8562\n",
            "Epoch 3/30\n",
            "32/32 [==============================] - 20s 630ms/step - loss: 0.6552 - accuracy: 0.8455 - val_loss: 0.6093 - val_accuracy: 0.8062\n",
            "Epoch 4/30\n",
            "32/32 [==============================] - 21s 650ms/step - loss: 0.5458 - accuracy: 0.8573 - val_loss: 0.4620 - val_accuracy: 0.9031\n",
            "Epoch 5/30\n",
            "32/32 [==============================] - 19s 607ms/step - loss: 0.5134 - accuracy: 0.8484 - val_loss: 0.4960 - val_accuracy: 0.8156\n",
            "Epoch 6/30\n",
            "32/32 [==============================] - 21s 665ms/step - loss: 0.4833 - accuracy: 0.8506 - val_loss: 0.3970 - val_accuracy: 0.8781\n",
            "Epoch 7/30\n",
            "32/32 [==============================] - 20s 621ms/step - loss: 0.4250 - accuracy: 0.8770 - val_loss: 0.3810 - val_accuracy: 0.9281\n",
            "Epoch 8/30\n",
            "32/32 [==============================] - 22s 675ms/step - loss: 0.3961 - accuracy: 0.8858 - val_loss: 0.4159 - val_accuracy: 0.8625\n",
            "Epoch 9/30\n",
            "32/32 [==============================] - 21s 671ms/step - loss: 0.4066 - accuracy: 0.8740 - val_loss: 0.3553 - val_accuracy: 0.9000\n",
            "Epoch 10/30\n",
            "32/32 [==============================] - 23s 710ms/step - loss: 0.4335 - accuracy: 0.8504 - val_loss: 0.3771 - val_accuracy: 0.8500\n",
            "Epoch 11/30\n",
            "32/32 [==============================] - 20s 627ms/step - loss: 0.4069 - accuracy: 0.8691 - val_loss: 0.3661 - val_accuracy: 0.8875\n",
            "Epoch 12/30\n",
            "32/32 [==============================] - 22s 674ms/step - loss: 0.4062 - accuracy: 0.8681 - val_loss: 0.3383 - val_accuracy: 0.8938\n",
            "Epoch 13/30\n",
            "32/32 [==============================] - 21s 644ms/step - loss: 0.4170 - accuracy: 0.8671 - val_loss: 0.4044 - val_accuracy: 0.8469\n",
            "Epoch 14/30\n",
            "32/32 [==============================] - 21s 647ms/step - loss: 0.4691 - accuracy: 0.8356 - val_loss: 0.3907 - val_accuracy: 0.8562\n",
            "Epoch 15/30\n",
            "32/32 [==============================] - 21s 638ms/step - loss: 0.4122 - accuracy: 0.8593 - val_loss: 0.3368 - val_accuracy: 0.9187\n",
            "Epoch 16/30\n",
            "32/32 [==============================] - 24s 739ms/step - loss: 0.3945 - accuracy: 0.8642 - val_loss: 0.3645 - val_accuracy: 0.8750\n",
            "Epoch 17/30\n",
            "32/32 [==============================] - 21s 647ms/step - loss: 0.3997 - accuracy: 0.8602 - val_loss: 0.3838 - val_accuracy: 0.8531\n",
            "Epoch 18/30\n",
            "32/32 [==============================] - 23s 696ms/step - loss: 0.3849 - accuracy: 0.8740 - val_loss: 0.3572 - val_accuracy: 0.8750\n",
            "Epoch 19/30\n",
            "32/32 [==============================] - 20s 638ms/step - loss: 0.3750 - accuracy: 0.8799 - val_loss: 0.3221 - val_accuracy: 0.9031\n",
            "Epoch 20/30\n",
            "32/32 [==============================] - 21s 635ms/step - loss: 0.3833 - accuracy: 0.8671 - val_loss: 0.3725 - val_accuracy: 0.8594\n",
            "Epoch 21/30\n",
            "32/32 [==============================] - 20s 620ms/step - loss: 0.3995 - accuracy: 0.8661 - val_loss: 0.3602 - val_accuracy: 0.9125\n",
            "Epoch 22/30\n",
            "32/32 [==============================] - 21s 655ms/step - loss: 0.4077 - accuracy: 0.8612 - val_loss: 0.3332 - val_accuracy: 0.9156\n",
            "Epoch 23/30\n",
            "32/32 [==============================] - ETA: 0s - loss: 0.4353 - accuracy: 0.8435Restoring model weights from the end of the best epoch: 19.\n",
            "32/32 [==============================] - 20s 627ms/step - loss: 0.4353 - accuracy: 0.8435 - val_loss: 0.3636 - val_accuracy: 0.8938\n",
            "Epoch 23: early stopping\n"
          ]
        }
      ],
      "source": [
        "history = model.fit(\n",
        "    train_generator,\n",
        "    steps_per_epoch=(train_len//batch_size),\n",
        "    epochs=epochs,\n",
        "    verbose=1,\n",
        "    callbacks=callbacks,\n",
        "    validation_data=validation_generator,\n",
        "    validation_steps=(val_len//batch_size)\n",
        ")"
      ]
    },
    {
      "cell_type": "markdown",
      "metadata": {},
      "source": [
        "## Plot training and validation accuracy"
      ]
    },
    {
      "cell_type": "code",
      "execution_count": 11,
      "metadata": {
        "colab": {
          "base_uri": "https://localhost:8080/",
          "height": 962
        },
        "id": "XKR_E92wudzQ",
        "outputId": "fda9f2aa-02ec-4ebc-b8e4-cc98b4bf3975"
      },
      "outputs": [
        {
          "data": {
            "text/plain": [
              "<Figure size 640x480 with 0 Axes>"
            ]
          },
          "execution_count": 11,
          "metadata": {},
          "output_type": "execute_result"
        },
        {
          "data": {
            "image/png": "[encoded data removed]",
            "text/plain": [
              "<Figure size 640x480 with 1 Axes>"
            ]
          },
          "metadata": {},
          "output_type": "display_data"
        },
        {
          "data": {
            "image/png": "[encoded data removed]",
            "text/plain": [
              "<Figure size 640x480 with 1 Axes>"
            ]
          },
          "metadata": {},
          "output_type": "display_data"
        },
        {
          "data": {
            "text/plain": [
              "<Figure size 640x480 with 0 Axes>"
            ]
          },
          "metadata": {},
          "output_type": "display_data"
        }
      ],
      "source": [
        "acc = history.history['accuracy']\n",
        "val_acc = history.history['val_accuracy']\n",
        "loss = history.history['loss']\n",
        "val_loss = history.history['val_loss']\n",
        "\n",
        "epochs = range(len(acc))\n",
        "\n",
        "plt.plot(epochs, acc, 'b')\n",
        "plt.plot(epochs, val_acc, 'r')\n",
        "plt.title('Training and Validation Accuracy')\n",
        "plt.ylim([0, 1])\n",
        "plt.ylabel('accuracy')\n",
        "plt.xlabel('epoch')\n",
        "plt.legend(['train', 'val'], loc='upper left')\n",
        "plt.figure()\n",
        "\n",
        "plt.plot(epochs, loss, 'b')\n",
        "plt.plot(epochs, val_loss, 'r')\n",
        "plt.ylabel('loss')\n",
        "plt.xlabel('epoch')\n",
        "plt.legend(['train', 'val'], loc='upper left')\n",
        "plt.title('Training and Validaion Loss')\n",
        "plt.figure()"
      ]
    },
    {
      "cell_type": "markdown",
      "metadata": {},
      "source": [
        "## Caculate accuracy of test dataset"
      ]
    },
    {
      "cell_type": "code",
      "execution_count": 12,
      "metadata": {
        "colab": {
          "base_uri": "https://localhost:8080/"
        },
        "id": "B0ho8Rvh1X3e",
        "outputId": "07984f5a-af08-45ef-c1ea-136a67eabf73"
      },
      "outputs": [
        {
          "name": "stdout",
          "output_type": "stream",
          "text": [
            "Found 349 images belonging to 2 classes.\n",
            "349/349 [==============================] - 98s 278ms/step - loss: 0.2886 - accuracy: 0.9140\n",
            "accuracy test:  0.9140400886535645\n",
            "loss test:  0.2886430025100708\n"
          ]
        }
      ],
      "source": [
        "test_datagen = ImageDataGenerator(rescale=1./255)\n",
        "\n",
        "test_generator = test_datagen.flow_from_directory(test_dir,\n",
        "                                                  batch_size=1,\n",
        "                                                  target_size=(224, 224),\n",
        "                                                  shuffle = False,\n",
        "                                                  class_mode='binary')\n",
        "\n",
        "filenames = test_generator.filenames\n",
        "nb_samples = len(filenames)\n",
        "\n",
        "loss, acc = model.evaluate(test_generator,steps = (nb_samples), verbose=1)\n",
        "print('accuracy test: ',acc)\n",
        "print('loss test: ',loss)"
      ]
    },
    {
      "cell_type": "markdown",
      "metadata": {},
      "source": [
        "## Save the model"
      ]
    },
    {
      "cell_type": "code",
      "execution_count": 15,
      "metadata": {
        "colab": {
          "base_uri": "https://localhost:8080/"
        },
        "id": "QArcXXslIxMX",
        "outputId": "76558952-4ef5-4fe2-84b2-8a52f4b21b34"
      },
      "outputs": [
        {
          "name": "stderr",
          "output_type": "stream",
          "text": [
            "/usr/local/lib/python3.10/dist-packages/keras/src/engine/training.py:3103: UserWarning: You are saving your model as an HDF5 file via `model.save()`. This file format is considered legacy. We recommend using instead the native Keras format, e.g. `model.save('my_model.keras')`.\n",
            "  saving_api.save_model(\n"
          ]
        }
      ],
      "source": [
        "model.save('vgg19_final_0402.h5')"
      ]
    },
    {
      "cell_type": "markdown",
      "metadata": {},
      "source": [
        "### This cell is being run on Google Colab. Please ignore this cell if you are not using Google Colab"
      ]
    },
    {
      "cell_type": "code",
      "execution_count": null,
      "metadata": {
        "id": "hkrsq1b5I6Ph"
      },
      "outputs": [],
      "source": [
        "from keras.utils import get_file\n",
        "import pathlib\n",
        "import cv2\n",
        "from google.colab import files\n",
        "from keras.preprocessing import image\n",
        "import numpy as np\n",
        "\n",
        "model_predict = tf.keras.models.load_model('vgg19_final_0402.h5')\n",
        "model_predict.compile(optimizer='adam',\n",
        "                      loss='binary_crossentropy',\n",
        "                      metrics=['accuracy'])\n",
        "\n",
        "uploaded = files.upload()\n",
        "image_name = []\n",
        "image_conf = []\n",
        "predict_result = []\n",
        "\n",
        "for fn in uploaded.keys():\n",
        "  path = fn\n",
        "  img = image.load_img(path, color_mode=\"rgb\", target_size=(224, 224), interpolation=\"nearest\")\n",
        "  # imgplot = plt.imshow(img)\n",
        "  img = image.img_to_array(img)\n",
        "  img = np.expand_dims(img, axis=0)\n",
        "  img = img/255\n",
        "\n",
        "  images = np.vstack([img])\n",
        "  classes = model_predict.predict(images, batch_size=10)\n",
        "  label = np.where(classes[0] > 0.5, 1,0)\n",
        "  # print(label)\n",
        "  if label == 0:\n",
        "    image_name.append(fn)\n",
        "    image_conf.append(1.0 - classes[0])\n",
        "    predict_result.append('Fresh Orange')\n",
        "  else:\n",
        "    image_name.append(fn)\n",
        "    image_conf.append(classes[0])\n",
        "    predict_result.append('Rotten Orange')\n",
        "\n",
        "plt.figure(figsize=(15, 15))\n",
        "for n in range(len(image_name)):\n",
        "  plt.subplot((math.ceil(len(image_name)/4))+1, 4, n+1)\n",
        "  plt.subplots_adjust(hspace = 0.3)\n",
        "  plt.imshow(image.load_img(image_name[n], color_mode=\"rgb\", target_size=(224, 224), interpolation=\"nearest\"))\n",
        "  title = f\"predict: {predict_result[n]} ({round(float(image_conf[n])*100, 2)}%)\"\n",
        "  if predict_result[n] == 'Fresh Fruit':\n",
        "    plt.title(title, color='black')\n",
        "  else:\n",
        "    plt.title(title, color='red')\n",
        "\n",
        "  plt.axis('off')\n",
        "plt.show()\n",
        "\n",
        "for fn in image_name:\n",
        "  os.system(f'rm {fn}')"
      ]
    },
    {
      "cell_type": "markdown",
      "metadata": {
        "id": "Gj87o6dthngA"
      },
      "source": [
        "# Evalute Model"
      ]
    },
    {
      "cell_type": "code",
      "execution_count": 13,
      "metadata": {
        "colab": {
          "base_uri": "https://localhost:8080/"
        },
        "id": "e57k3GVlhnRh",
        "outputId": "f30419ca-874e-4e09-d8e1-ae02daf6bab6"
      },
      "outputs": [
        {
          "name": "stdout",
          "output_type": "stream",
          "text": [
            "349/349 [==============================] - 4s 12ms/step\n",
            "Test Set Classification Report:\n",
            "              precision    recall  f1-score   support\n",
            "\n",
            "           0       0.88      0.81      0.84       100\n",
            "           1       0.93      0.96      0.94       249\n",
            "\n",
            "    accuracy                           0.91       349\n",
            "   macro avg       0.90      0.88      0.89       349\n",
            "weighted avg       0.91      0.91      0.91       349\n",
            "\n"
          ]
        }
      ],
      "source": [
        "from sklearn.metrics import classification_report\n",
        "\n",
        "test_predictions = model.predict(test_generator)\n",
        "predicted_classes = (test_predictions > 0.5).astype(int)\n",
        "\n",
        "true_labels = test_generator.classes\n",
        "\n",
        "print(\"Test Set Classification Report:\")\n",
        "print(classification_report(true_labels, predicted_classes))\n"
      ]
    }
  ],
  "metadata": {
    "accelerator": "GPU",
    "colab": {
      "gpuType": "T4",
      "provenance": []
    },
    "kernelspec": {
      "display_name": "Python 3",
      "name": "python3"
    },
    "language_info": {
      "codemirror_mode": {
        "name": "ipython",
        "version": 3
      },
      "file_extension": ".py",
      "mimetype": "text/x-python",
      "name": "python",
      "nbconvert_exporter": "python",
      "pygments_lexer": "ipython3",
      "version": "3.11.6"
    }
  },
  "nbformat": 4,
  "nbformat_minor": 0
}
